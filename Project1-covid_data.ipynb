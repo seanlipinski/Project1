{
 "cells": [
  {
   "cell_type": "code",
   "execution_count": null,
   "metadata": {},
   "outputs": [],
   "source": [
    "covid_data_df['date']= pd.to_datetime(covid_data_df['date'],format='%Y-%m-%d')\n",
    "covid_data_df['year']= covid_data_df['date'].dt.year\n",
    "covid_data_df['month']= covid_data_df['date'].dt.month\n",
    "covid_data_df['day']= covid_data_df['date'].dt.day\n",
    "\n",
    "#covid_data_df\n",
    "covid_data_df.drop(['date'], axis=1)"
   ]
  }
 ],
 "metadata": {
  "kernelspec": {
   "display_name": "Python [conda env:PythonData] *",
   "language": "python",
   "name": "conda-env-PythonData-py"
  },
  "language_info": {
   "codemirror_mode": {
    "name": "ipython",
    "version": 3
   },
   "file_extension": ".py",
   "mimetype": "text/x-python",
   "name": "python",
   "nbconvert_exporter": "python",
   "pygments_lexer": "ipython3",
   "version": "3.6.10"
  }
 },
 "nbformat": 4,
 "nbformat_minor": 4
}
